{
 "cells": [
  {
   "cell_type": "markdown",
   "id": "dadddcfe",
   "metadata": {},
   "source": [
    "## Python and GBQ\n",
    "\n",
    "This exercise gets us started using Python and GBQ together. In this notebook you'll practice the following common tasks: \n",
    "\n",
    "1. Connecting Python to GBQ\n",
    "1. Listing tables in a data set\n",
    "1. Uploading data \n",
    "1. Writing a query and returning the results\n",
    "1. Deleting a table\n",
    "\n",
    "This notebook assumes you have a single Dram Shop items detail report from Square. This file should be uncompressed and in the same folder as this code. \n",
    "\n"
   ]
  },
  {
   "cell_type": "code",
   "execution_count": null,
   "id": "37096ccd",
   "metadata": {},
   "outputs": [],
   "source": [
    "import os\n",
    "\n",
    "import pandas as pd\n",
    "import numpy as np\n",
    "import pandas_gbq\n",
    "import janitor\n",
    "\n",
    "# Do our imports for the code\n",
    "from google.cloud import bigquery\n",
    "from google.oauth2 import service_account"
   ]
  },
  {
   "cell_type": "markdown",
   "id": "99db8bd3",
   "metadata": {},
   "source": [
    "### GBQ Set Up\n",
    "\n",
    "In this next section we connect to our GBQ project and list the data sets inside to test the connection."
   ]
  },
  {
   "cell_type": "code",
   "execution_count": null,
   "id": "ab088883",
   "metadata": {},
   "outputs": [],
   "source": [
    "# These first two values will be different on your machine. \n",
    "service_path = \"/Users/chandler/Dropbox/Teaching/\"\n",
    "service_file = 'umt-msba-037daf11ee16.json' # change this to your authentication information  \n",
    "\n",
    "gbq_proj_id = 'umt-msba'  \n",
    "\n",
    "# And this should stay the same. \n",
    "private_key = service_path + service_file"
   ]
  },
  {
   "cell_type": "code",
   "execution_count": null,
   "id": "eea3d045",
   "metadata": {},
   "outputs": [],
   "source": [
    "# Now we pass in our credentials so that Python has permission to access our project.\n",
    "credentials = service_account.Credentials.from_service_account_file(service_path + service_file)"
   ]
  },
  {
   "cell_type": "code",
   "execution_count": null,
   "id": "4b32864b",
   "metadata": {},
   "outputs": [],
   "source": [
    "# And finally we establish our connection\n",
    "client = bigquery.Client(credentials = credentials, project=gbq_proj_id)"
   ]
  },
  {
   "cell_type": "code",
   "execution_count": null,
   "id": "402953f8",
   "metadata": {},
   "outputs": [],
   "source": [
    "for item in client.list_datasets() : \n",
    "    print(item.full_dataset_id)"
   ]
  },
  {
   "cell_type": "markdown",
   "id": "d31be65e",
   "metadata": {},
   "source": [
    "### Listing Tables in a Dataset\n",
    "\n",
    "In this section we'll list all the tables in one of the data sets. Verify this works by looking at the tables in the console."
   ]
  },
  {
   "cell_type": "code",
   "execution_count": null,
   "id": "aa03aa87",
   "metadata": {},
   "outputs": [],
   "source": [
    "dataset_id = 'dram_shop'\n",
    "\n",
    "tables = client.list_tables(dataset_id)  \n",
    "\n",
    "for table in tables:\n",
    "    print(table.table_id)\n",
    "    \n",
    "    \n",
    "    "
   ]
  },
  {
   "cell_type": "markdown",
   "id": "c31ec53f",
   "metadata": {},
   "source": [
    "### Uploading Data\n",
    "\n",
    "For this section, we'll use *your* project and dataset and upload the file that has our cleaned item names in it."
   ]
  },
  {
   "cell_type": "code",
   "execution_count": null,
   "id": "df47c4d4",
   "metadata": {},
   "outputs": [],
   "source": [
    "gbq_proj_id = 'your_project'\n",
    "dataset_id = 'your_dataset'\n",
    "\n",
    "item_lu = pd.read_csv('item_lookup.txt',sep=\"\\t\")\n"
   ]
  },
  {
   "cell_type": "code",
   "execution_count": null,
   "id": "c194730c",
   "metadata": {},
   "outputs": [],
   "source": [
    "item_lu.head()"
   ]
  },
  {
   "cell_type": "code",
   "execution_count": null,
   "id": "7db08a7d",
   "metadata": {},
   "outputs": [],
   "source": [
    "item_lu.loc[item_lu['other_info'].notnull()]"
   ]
  },
  {
   "cell_type": "code",
   "execution_count": null,
   "id": "6d036f08",
   "metadata": {},
   "outputs": [],
   "source": [
    "table_name = 'your_name'\n",
    "table_id = \".\".join([gbq_proj_id,dataset_id,table_name])\n",
    "pandas_gbq.to_gbq(item_lu, table_id, project_id=gbq_proj_id,if_exists=\"replace\") # let's discuss this last bit\n"
   ]
  },
  {
   "cell_type": "markdown",
   "id": "432daccd",
   "metadata": {},
   "source": [
    "### Querying from a table\n",
    "\n",
    "Now let's see how we can connect and query against a table."
   ]
  },
  {
   "cell_type": "code",
   "execution_count": null,
   "id": "2e8c020c",
   "metadata": {},
   "outputs": [],
   "source": [
    "# Let's query to see how many owners and records we now have loaded in\n",
    "\n",
    "query = \"\"\"SELECT *\n",
    "           FROM `your_project.your_dataset.your_table`\n",
    "           WHERE brewery = 'stone'\"\"\"\n",
    "\n",
    "# And we execute queries with `client.query`\n",
    "query_job = client.query(\n",
    "    query,\n",
    "    location=\"US\",\n",
    ")\n",
    "\n",
    "for row in query_job :\n",
    "    print(\"\\t\".join([str(item) for item in row]))\n",
    "    \n"
   ]
  },
  {
   "cell_type": "markdown",
   "id": "278ae12b",
   "metadata": {},
   "source": [
    "Or, alternatively, with this elegant line of pandas code."
   ]
  },
  {
   "cell_type": "code",
   "execution_count": null,
   "id": "6454f3ae",
   "metadata": {},
   "outputs": [],
   "source": [
    "stone_lu = client.query(query).to_dataframe()"
   ]
  },
  {
   "cell_type": "code",
   "execution_count": null,
   "id": "4d28decc",
   "metadata": {},
   "outputs": [],
   "source": [
    "stone_lu"
   ]
  },
  {
   "cell_type": "markdown",
   "id": "b2964a4f",
   "metadata": {},
   "source": [
    "### Deleting a table\n",
    "\n",
    "Be careful to do this on your own project! Deleting a table is relatively easy, though."
   ]
  },
  {
   "cell_type": "code",
   "execution_count": null,
   "id": "d287338b",
   "metadata": {},
   "outputs": [],
   "source": [
    "table_id = \".\".join([gbq_proj_id,dataset_id,table_name])\n",
    "\n",
    "print(table_id)"
   ]
  },
  {
   "cell_type": "code",
   "execution_count": null,
   "id": "29d55300",
   "metadata": {},
   "outputs": [],
   "source": [
    "client.delete_table(table_id, not_found_ok=True)\n",
    "print(f\"Deleted {table_id}.\")\n"
   ]
  },
  {
   "cell_type": "markdown",
   "id": "25774107",
   "metadata": {},
   "source": [
    "Remember, you may need to refresh your GBQ console to see the changes you've wrought."
   ]
  }
 ],
 "metadata": {
  "kernelspec": {
   "display_name": "Python 3 (ipykernel)",
   "language": "python",
   "name": "python3"
  },
  "language_info": {
   "codemirror_mode": {
    "name": "ipython",
    "version": 3
   },
   "file_extension": ".py",
   "mimetype": "text/x-python",
   "name": "python",
   "nbconvert_exporter": "python",
   "pygments_lexer": "ipython3",
   "version": "3.8.8"
  }
 },
 "nbformat": 4,
 "nbformat_minor": 5
}
